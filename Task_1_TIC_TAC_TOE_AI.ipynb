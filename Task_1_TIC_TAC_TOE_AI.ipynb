{
  "nbformat": 4,
  "nbformat_minor": 0,
  "metadata": {
    "colab": {
      "provenance": []
    },
    "kernelspec": {
      "name": "python3",
      "display_name": "Python 3"
    },
    "language_info": {
      "name": "python"
    }
  },
  "cells": [
    {
      "cell_type": "markdown",
      "source": [
        "**Setting up the game board:**"
      ],
      "metadata": {
        "id": "6htG6GvJrlcy"
      }
    },
    {
      "cell_type": "code",
      "execution_count": null,
      "metadata": {
        "id": "Z0hTlMODotoP"
      },
      "outputs": [],
      "source": [
        "board = [' ' for _ in range(9)]  # A list representing the 3x3 board\n",
        "\n",
        "def print_board():\n",
        "    for i in range(0, 9, 3):\n",
        "        print('|'.join(board[i:i+3]))\n",
        "        if i < 6:\n",
        "            print('-----')\n"
      ]
    },
    {
      "cell_type": "markdown",
      "source": [
        "**Defining the Minimax Algorithm:**"
      ],
      "metadata": {
        "id": "_2reS3VLr46i"
      }
    },
    {
      "cell_type": "code",
      "source": [
        "def minimax(board, depth, is_maximizing):\n",
        "    # Evaluate board status\n",
        "    if check_winner('X'):\n",
        "        return -10\n",
        "    elif check_winner('O'):\n",
        "        return 10\n",
        "    elif ' ' not in board:\n",
        "        return 0\n",
        "\n",
        "    if is_maximizing:\n",
        "        best_score = -float('inf')\n",
        "        for i in range(9):\n",
        "            if board[i] == ' ':\n",
        "                board[i] = 'O'\n",
        "                score = minimax(board, depth + 1, False)\n",
        "                board[i] = ' '\n",
        "                best_score = max(score, best_score)\n",
        "        return best_score\n",
        "    else:\n",
        "        best_score = float('inf')\n",
        "        for i in range(9):\n",
        "            if board[i] == ' ':\n",
        "                board[i] = 'X'\n",
        "                score = minimax(board, depth + 1, True)\n",
        "                board[i] = ' '\n",
        "                best_score = min(score, best_score)\n",
        "        return best_score\n"
      ],
      "metadata": {
        "id": "vh9E-luTpgGU"
      },
      "execution_count": null,
      "outputs": []
    },
    {
      "cell_type": "markdown",
      "source": [
        "**Implementing AI Move Function:**"
      ],
      "metadata": {
        "id": "or5lFFefsIv0"
      }
    },
    {
      "cell_type": "code",
      "source": [
        "def best_move():\n",
        "    best_score = -float('inf')\n",
        "    move = None\n",
        "    for i in range(9):\n",
        "        if board[i] == ' ':\n",
        "            board[i] = 'O'\n",
        "            score = minimax(board, 0, False)\n",
        "            board[i] = ' '\n",
        "            if score > best_score:\n",
        "                best_score = score\n",
        "                move = i\n",
        "    return move\n"
      ],
      "metadata": {
        "id": "da_nN9qTp2Lw"
      },
      "execution_count": null,
      "outputs": []
    },
    {
      "cell_type": "markdown",
      "source": [
        "**Gaming Logic and Execution:**"
      ],
      "metadata": {
        "id": "YJEfOUjEsUI-"
      }
    },
    {
      "cell_type": "code",
      "source": [
        "def check_winner(player):\n",
        "    win_conditions = [\n",
        "        (0, 1, 2), (3, 4, 5), (6, 7, 8),  # Rows\n",
        "        (0, 3, 6), (1, 4, 7), (2, 5, 8),  # Columns\n",
        "        (0, 4, 8), (2, 4, 6)              # Diagonals\n",
        "    ]\n",
        "    for a, b, c in win_conditions:\n",
        "        if board[a] == board[b] == board[c] == player:\n",
        "            return True\n",
        "    return False\n",
        "\n",
        "def best_move():\n",
        "    best_score = -float('inf')\n",
        "    move = None\n",
        "    for i in range(9):\n",
        "        if board[i] == ' ':\n",
        "            board[i] = 'O'\n",
        "            score = minimax(board, 0, False)\n",
        "            board[i] = ' '\n",
        "            if score > best_score:\n",
        "                best_score = score\n",
        "                move = i\n",
        "    return move\n",
        "\n",
        "def minimax(board, depth, is_maximizing):\n",
        "    # Evaluate board status\n",
        "    if check_winner('X'):\n",
        "        return -10\n",
        "    elif check_winner('O'):\n",
        "        return 10\n",
        "    elif ' ' not in board:\n",
        "        return 0\n",
        "\n",
        "    if is_maximizing:\n",
        "        best_score = -float('inf')\n",
        "        for i in range(9):\n",
        "            if board[i] == ' ':\n",
        "                board[i] = 'O'\n",
        "                score = minimax(board, depth + 1, False)\n",
        "                board[i] = ' '\n",
        "                best_score = max(score, best_score)\n",
        "        return best_score\n",
        "    else:\n",
        "        best_score = float('inf')\n",
        "        for i in range(9):\n",
        "            if board[i] == ' ':\n",
        "                board[i] = 'X'\n",
        "                score = minimax(board, depth + 1, True)\n",
        "                board[i] = ' '\n",
        "                best_score = min(score, best_score)\n",
        "        return best_score\n",
        "\n",
        "# Define the missing print_board() function\n",
        "def print_board():\n",
        "    for i in range(0, 9, 3):\n",
        "        print(board[i], '|', board[i + 1], '|', board[i + 2])\n",
        "        if i < 6:\n",
        "            print('-' * 9)\n",
        "\n",
        "def play_game():\n",
        "    while True:\n",
        "        # Player X move\n",
        "        print_board() # Now you can call print_board()\n",
        "        move = int(input(\"Enter your move (0-8): \"))\n",
        "        if board[move] == ' ':\n",
        "            board[move] = 'X'\n",
        "            if check_winner('X'):\n",
        "                print(\"Player X wins!\")\n",
        "                break\n",
        "            if ' ' not in board:\n",
        "                print(\"It's a tie!\")\n",
        "                break\n",
        "            # AI move\n",
        "            ai_move = best_move()\n",
        "            board[ai_move] = 'O'\n",
        "            if check_winner('O'):\n",
        "                print_board()\n",
        "                print(\"AI wins!\")\n",
        "                break\n",
        "            if ' ' not in board:\n",
        "                print(\"It's a tie!\")\n",
        "                break\n",
        "        else:\n",
        "            print(\"Invalid move, try again.\")\n",
        "\n",
        "play_game()"
      ],
      "metadata": {
        "id": "ltecZ4GbVL5k",
        "outputId": "3181866b-f672-4ee4-fa38-c1028b311b15",
        "colab": {
          "base_uri": "https://localhost:8080/"
        }
      },
      "execution_count": null,
      "outputs": [
        {
          "metadata": {
            "tags": null
          },
          "name": "stdout",
          "output_type": "stream",
          "text": [
            "X | O | X\n",
            "---------\n",
            "O | O | X\n",
            "---------\n",
            "X | X | X\n"
          ]
        }
      ]
    }
  ]
}